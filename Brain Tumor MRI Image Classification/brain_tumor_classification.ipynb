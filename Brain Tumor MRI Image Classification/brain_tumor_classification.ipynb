{
 "cells": [
  {
   "cell_type": "code",
   "execution_count": 4,
   "id": "4125b866-6ab0-42f6-8c28-251cb4b1f4d4",
   "metadata": {},
   "outputs": [],
   "source": [
    "import pandas as pd\n",
    "import numpy as np\n",
    "import matplotlib.pyplot as plt\n",
    "import seaborn as sns\n",
    "import warnings\n",
    "import os, shutil\n",
    "warnings.filterwarnings('ignore')\n",
    "\n"
   ]
  },
  {
   "cell_type": "code",
   "execution_count": 5,
   "id": "3408e603-b185-49d6-8a48-135b6d52f35e",
   "metadata": {},
   "outputs": [],
   "source": [
    "pathYes='brain_tumor/yes'\n",
    "pathNo='brain_tumor/no'"
   ]
  },
  {
   "cell_type": "code",
   "execution_count": 6,
   "id": "83bd7227-1477-459c-8489-e9f68eb6b7a3",
   "metadata": {},
   "outputs": [
    {
     "ename": "FileExistsError",
     "evalue": "[WinError 183] Cannot create a file when that file already exists: 'brain_tumor/yes\\\\Y_10.jpg' -> 'brain_tumor/yes\\\\Y_2.jpg'",
     "output_type": "error",
     "traceback": [
      "\u001b[1;31m---------------------------------------------------------------------------\u001b[0m",
      "\u001b[1;31mFileExistsError\u001b[0m                           Traceback (most recent call last)",
      "Cell \u001b[1;32mIn[6], line 7\u001b[0m\n\u001b[0;32m      5\u001b[0m sourch\u001b[38;5;241m=\u001b[39mos\u001b[38;5;241m.\u001b[39mpath\u001b[38;5;241m.\u001b[39mjoin(pathYes,i)\n\u001b[0;32m      6\u001b[0m destination\u001b[38;5;241m=\u001b[39mos\u001b[38;5;241m.\u001b[39mpath\u001b[38;5;241m.\u001b[39mjoin(pathYes,\u001b[38;5;124m'\u001b[39m\u001b[38;5;124mY_\u001b[39m\u001b[38;5;124m'\u001b[39m\u001b[38;5;241m+\u001b[39m\u001b[38;5;28mstr\u001b[39m(count)\u001b[38;5;241m+\u001b[39m\u001b[38;5;124m'\u001b[39m\u001b[38;5;124m.jpg\u001b[39m\u001b[38;5;124m'\u001b[39m)\n\u001b[1;32m----> 7\u001b[0m \u001b[43mos\u001b[49m\u001b[38;5;241;43m.\u001b[39;49m\u001b[43mrename\u001b[49m\u001b[43m(\u001b[49m\u001b[43msourch\u001b[49m\u001b[43m,\u001b[49m\u001b[43mdestination\u001b[49m\u001b[43m)\u001b[49m\n\u001b[0;32m      8\u001b[0m count\u001b[38;5;241m+\u001b[39m\u001b[38;5;241m=\u001b[39m\u001b[38;5;241m1\u001b[39m\n",
      "\u001b[1;31mFileExistsError\u001b[0m: [WinError 183] Cannot create a file when that file already exists: 'brain_tumor/yes\\\\Y_10.jpg' -> 'brain_tumor/yes\\\\Y_2.jpg'"
     ]
    }
   ],
   "source": [
    "#rename yes to Y_1\n",
    "\n",
    "count=1\n",
    "for i in os.listdir(pathYes):\n",
    "  sourch=os.path.join(pathYes,i)\n",
    "  destination=os.path.join(pathYes,'Y_'+str(count)+'.jpg')\n",
    "  os.rename(sourch,destination)\n",
    "  count+=1"
   ]
  },
  {
   "cell_type": "code",
   "execution_count": 7,
   "id": "5fe0aced-a926-452e-885d-9bff8b8bf129",
   "metadata": {},
   "outputs": [
    {
     "ename": "FileExistsError",
     "evalue": "[WinError 183] Cannot create a file when that file already exists: 'brain_tumor/no\\\\N_10.jpg' -> 'brain_tumor/no\\\\N_2.jpg'",
     "output_type": "error",
     "traceback": [
      "\u001b[1;31m---------------------------------------------------------------------------\u001b[0m",
      "\u001b[1;31mFileExistsError\u001b[0m                           Traceback (most recent call last)",
      "Cell \u001b[1;32mIn[7], line 7\u001b[0m\n\u001b[0;32m      5\u001b[0m sourch\u001b[38;5;241m=\u001b[39mos\u001b[38;5;241m.\u001b[39mpath\u001b[38;5;241m.\u001b[39mjoin(pathNo,i)\n\u001b[0;32m      6\u001b[0m destination\u001b[38;5;241m=\u001b[39mos\u001b[38;5;241m.\u001b[39mpath\u001b[38;5;241m.\u001b[39mjoin(pathNo,\u001b[38;5;124m'\u001b[39m\u001b[38;5;124mN_\u001b[39m\u001b[38;5;124m'\u001b[39m\u001b[38;5;241m+\u001b[39m\u001b[38;5;28mstr\u001b[39m(count)\u001b[38;5;241m+\u001b[39m\u001b[38;5;124m'\u001b[39m\u001b[38;5;124m.jpg\u001b[39m\u001b[38;5;124m'\u001b[39m)\n\u001b[1;32m----> 7\u001b[0m \u001b[43mos\u001b[49m\u001b[38;5;241;43m.\u001b[39;49m\u001b[43mrename\u001b[49m\u001b[43m(\u001b[49m\u001b[43msourch\u001b[49m\u001b[43m,\u001b[49m\u001b[43mdestination\u001b[49m\u001b[43m)\u001b[49m\n\u001b[0;32m      8\u001b[0m count\u001b[38;5;241m+\u001b[39m\u001b[38;5;241m=\u001b[39m\u001b[38;5;241m1\u001b[39m\n",
      "\u001b[1;31mFileExistsError\u001b[0m: [WinError 183] Cannot create a file when that file already exists: 'brain_tumor/no\\\\N_10.jpg' -> 'brain_tumor/no\\\\N_2.jpg'"
     ]
    }
   ],
   "source": [
    "#rename No to N_1\n",
    "pathNo='brain_tumor/no'\n",
    "count=1\n",
    "for i in os.listdir(pathNo):\n",
    "  sourch=os.path.join(pathNo,i)\n",
    "  destination=os.path.join(pathNo,'N_'+str(count)+'.jpg')\n",
    "  os.rename(sourch,destination)\n",
    "  count+=1"
   ]
  },
  {
   "cell_type": "code",
   "execution_count": 8,
   "id": "bd11eb01-ef75-43d0-915f-ce2f03dff448",
   "metadata": {},
   "outputs": [
    {
     "data": {
      "text/plain": [
       "(155, 98)"
      ]
     },
     "execution_count": 8,
     "metadata": {},
     "output_type": "execute_result"
    }
   ],
   "source": [
    "lenYes= len(os.listdir('brain_tumor/yes'))\n",
    "lenNo=len(os.listdir('brain_tumor/no'))\n",
    "lenYes,lenNo"
   ]
  },
  {
   "cell_type": "code",
   "execution_count": 9,
   "id": "d6b61aab-bc82-4fa3-86c3-c24a3b1c24fb",
   "metadata": {},
   "outputs": [],
   "source": [
    "plotDict = {'tumor': lenYes, 'non-tumor': lenNo}"
   ]
  },
  {
   "cell_type": "code",
   "execution_count": 10,
   "id": "d7ecf146-73df-4aeb-9b0d-26536e682c1d",
   "metadata": {},
   "outputs": [
    {
     "name": "stdout",
     "output_type": "stream",
     "text": [
      "dict_keys(['tumor', 'non-tumor'])\n",
      "dict_values([155, 98])\n"
     ]
    }
   ],
   "source": [
    "X_axis=plotDict.keys()\n",
    "Y_axis=plotDict.values()\n",
    "print(X_axis)\n",
    "print(Y_axis)"
   ]
  },
  {
   "cell_type": "code",
   "execution_count": 11,
   "id": "40ad8994-74ee-476d-a364-41536535b86a",
   "metadata": {},
   "outputs": [],
   "source": [
    "import tensorflow as tf\n",
    "import cv2\n",
    "from tensorflow.keras.preprocessing.image import ImageDataGenerator\n",
    "from tensorflow.keras.layers import Conv2D, MaxPooling2D, Flatten, Dense\n",
    "from tensorflow.keras.models import Model\n",
    "from tensorflow.keras.applications.vgg19 import VGG19\n",
    "from tensorflow.keras.optimizers import Adam, SGD, RMSprop\n",
    "from tensorflow.keras.callbacks import EarlyStopping, ModelCheckpoint, ReduceLROnPlateau \n"
   ]
  },
  {
   "cell_type": "code",
   "execution_count": 12,
   "id": "df6bf4c4-7b5e-481c-9b1f-bd567ea9f0fe",
   "metadata": {},
   "outputs": [],
   "source": [
    "def timing(sec_elapsed):\n",
    "    h = int(sec_elapsed / (60*60))\n",
    "    m = int(sec_elapsed % (60*60) / 60)\n",
    "    s = sec_elapsed % 60\n",
    "    return f\"{h}:{m}:{s}\""
   ]
  },
  {
   "cell_type": "code",
   "execution_count": 13,
   "id": "1117e262-5830-4394-b53c-e5b8aa870a5a",
   "metadata": {},
   "outputs": [
    {
     "data": {
      "image/png": "[encoded data removed]",
      "text/plain": [
       "<Figure size 300x500 with 1 Axes>"
      ]
     },
     "metadata": {},
     "output_type": "display_data"
    }
   ],
   "source": [
    "fig= plt.figure(figsize=(3,5))\n",
    "plt.bar(X_axis, Y_axis)\n",
    "plt.xlabel(\"data\")\n",
    "plt.ylabel(\"no of brain tumor images\")\n",
    "plt.title('count of brain tumor images')\n",
    "plt.show()"
   ]
  },
  {
   "cell_type": "code",
   "execution_count": 1,
   "id": "f58c903c-db75-4fa3-ab2d-be1d6a54e2f4",
   "metadata": {},
   "outputs": [
    {
     "name": "stdout",
     "output_type": "stream",
     "text": [
      "Requirement already satisfied: numpy in c:\\users\\md masudur rahman\\anaconda3\\envs\\tensorflow\\lib\\site-packages (2.2.4)\n",
      "Requirement already satisfied: scipy in c:\\users\\md masudur rahman\\anaconda3\\envs\\tensorflow\\lib\\site-packages (1.15.2)\n",
      "Note: you may need to restart the kernel to use updated packages.\n"
     ]
    }
   ],
   "source": [
    "pip install --upgrade numpy scipy"
   ]
  },
  {
   "cell_type": "code",
   "execution_count": 19,
   "id": "2ef4beba-1feb-493b-add8-d30c966aa6f3",
   "metadata": {},
   "outputs": [
    {
     "name": "stdout",
     "output_type": "stream",
     "text": [
      "0:1:19.420619249343872\n"
     ]
    }
   ],
   "source": [
    "import time\n",
    "start_time = time.time()\n",
    "\n",
    "\n",
    "augmented_data(file_dir = pathYes, n_generated_samples=6, save_to_dir=augmented_data_path+'yes')\n",
    "augmented_data(file_dir = pathNo, n_generated_samples=9, save_to_dir=augmented_data_path+'no')\n",
    "\n",
    "end_time = time.time()\n",
    "execution_time = end_time - start_time\n",
    "print(timing(execution_time))"
   ]
  },
  {
   "cell_type": "code",
   "execution_count": 17,
   "id": "80f72a0c-8c10-4d76-8111-8284ae558cce",
   "metadata": {},
   "outputs": [],
   "source": [
    "augmented_data_path = 'brain_tumor/augmented_data'"
   ]
  },
  {
   "cell_type": "code",
   "execution_count": 17,
   "id": "e750d6d9-f9ee-4027-9977-ba146a775028",
   "metadata": {},
   "outputs": [],
   "source": [
    "def augmented_data(file_dir, n_generated_samples, save_to_dir):\n",
    "    data_gen = ImageDataGenerator(rotation_range=10, \n",
    "                      width_shift_range=0.1,\n",
    "                      height_shift_range=0.1,\n",
    "                      shear_range=0.1,\n",
    "                      brightness_range=(0.3, 1.0),\n",
    "                      horizontal_flip=True,\n",
    "                      vertical_flip=True,\n",
    "                      fill_mode='nearest')\n",
    "    for filename in os.listdir(file_dir):\n",
    "        image = cv2.imread(file_dir + '/' + filename)\n",
    "        image = image.reshape((1,) + image.shape)\n",
    "        save_prefix = 'aug_' + filename[:-4]\n",
    "        i=0\n",
    "        for batch in data_gen.flow(x = image, batch_size = 1, save_to_dir = save_to_dir, save_prefix = save_prefix, save_format = \"jpg\"):\n",
    "            i+=1\n",
    "            if i>n_generated_samples:\n",
    "                break"
   ]
  },
  {
   "cell_type": "code",
   "execution_count": 14,
   "id": "2c88b015-d992-4f11-a885-47f38ad670c5",
   "metadata": {},
   "outputs": [],
   "source": [
    "def data_summary(main_path):\n",
    "    yes_path=\"augmented_data/yes\"\n",
    "    no_path=\"augmented_data/no\"\n",
    "    n_pos=len(os.listdir(yes_path))\n",
    "    n_neg=len(os.listdir(no_path))\n",
    "    n=(n_pos + n_neg)\n",
    "    pos_per= n_pos*100/n\n",
    "    neg_per= n_neg*100/n\n",
    "    print(f\"Total number of examples: {n}\")\n",
    "    print(f\"Number of positive examples: {n_pos} ({pos_per:.2f}%)\")\n",
    "    print(f\"Number of negative examples: {n_neg} ({neg_per:.2f}%)\")"
   ]
  },
  {
   "cell_type": "code",
   "execution_count": 18,
   "id": "9ecaea47-a7b6-4115-99c4-26b380f6c9d3",
   "metadata": {},
   "outputs": [
    {
     "ename": "FileNotFoundError",
     "evalue": "[WinError 3] The system cannot find the path specified: 'augmented_data/yes'",
     "output_type": "error",
     "traceback": [
      "\u001b[1;31m---------------------------------------------------------------------------\u001b[0m",
      "\u001b[1;31mFileNotFoundError\u001b[0m                         Traceback (most recent call last)",
      "Cell \u001b[1;32mIn[18], line 1\u001b[0m\n\u001b[1;32m----> 1\u001b[0m \u001b[43mdata_summary\u001b[49m\u001b[43m(\u001b[49m\u001b[43maugmented_data_path\u001b[49m\u001b[43m)\u001b[49m\n",
      "Cell \u001b[1;32mIn[14], line 4\u001b[0m, in \u001b[0;36mdata_summary\u001b[1;34m(main_path)\u001b[0m\n\u001b[0;32m      2\u001b[0m yes_path\u001b[38;5;241m=\u001b[39m\u001b[38;5;124m\"\u001b[39m\u001b[38;5;124maugmented_data/yes\u001b[39m\u001b[38;5;124m\"\u001b[39m\n\u001b[0;32m      3\u001b[0m no_path\u001b[38;5;241m=\u001b[39m\u001b[38;5;124m\"\u001b[39m\u001b[38;5;124maugmented_data/no\u001b[39m\u001b[38;5;124m\"\u001b[39m\n\u001b[1;32m----> 4\u001b[0m n_pos\u001b[38;5;241m=\u001b[39m\u001b[38;5;28mlen\u001b[39m(\u001b[43mos\u001b[49m\u001b[38;5;241;43m.\u001b[39;49m\u001b[43mlistdir\u001b[49m\u001b[43m(\u001b[49m\u001b[43myes_path\u001b[49m\u001b[43m)\u001b[49m)\n\u001b[0;32m      5\u001b[0m n_neg\u001b[38;5;241m=\u001b[39m\u001b[38;5;28mlen\u001b[39m(os\u001b[38;5;241m.\u001b[39mlistdir(no_path))\n\u001b[0;32m      6\u001b[0m n\u001b[38;5;241m=\u001b[39m(n_pos \u001b[38;5;241m+\u001b[39m n_neg)\n",
      "\u001b[1;31mFileNotFoundError\u001b[0m: [WinError 3] The system cannot find the path specified: 'augmented_data/yes'"
     ]
    }
   ],
   "source": [
    "data_summary(augmented_data_path)"
   ]
  },
  {
   "cell_type": "code",
   "execution_count": null,
   "id": "75b26759-ddd4-46d6-87ca-705565e3ff92",
   "metadata": {},
   "outputs": [],
   "source": []
  }
 ],
 "metadata": {
  "kernelspec": {
   "display_name": "Python 3 (ipykernel)",
   "language": "python",
   "name": "python3"
  },
  "language_info": {
   "codemirror_mode": {
    "name": "ipython",
    "version": 3
   },
   "file_extension": ".py",
   "mimetype": "text/x-python",
   "name": "python",
   "nbconvert_exporter": "python",
   "pygments_lexer": "ipython3",
   "version": "3.10.16"
  }
 },
 "nbformat": 4,
 "nbformat_minor": 5
}
